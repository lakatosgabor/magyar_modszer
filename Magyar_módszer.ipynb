{
  "nbformat": 4,
  "nbformat_minor": 0,
  "metadata": {
    "colab": {
      "provenance": [],
      "authorship_tag": "ABX9TyNYLt2DC7QlZJk0eEUAvJE6",
      "include_colab_link": true
    },
    "kernelspec": {
      "name": "python3",
      "display_name": "Python 3"
    },
    "language_info": {
      "name": "python"
    }
  },
  "cells": [
    {
      "cell_type": "markdown",
      "metadata": {
        "id": "view-in-github",
        "colab_type": "text"
      },
      "source": [
        "<a href=\"https://colab.research.google.com/github/lakatosgabor/magyar_modszer/blob/main/Magyar_m%C3%B3dszer.ipynb\" target=\"_parent\"><img src=\"https://colab.research.google.com/assets/colab-badge.svg\" alt=\"Open In Colab\"/></a>"
      ]
    },
    {
      "cell_type": "code",
      "source": [
        "import numpy as np\n",
        "from scipy.optimize import linear_sum_assignment\n",
        "import random\n",
        "\n",
        "\n",
        "def get_operators():\n",
        "  #itt kérdezem le a bent lévő opeártorokat\n",
        "  operators = [\"Gipsz Jakab\", \"Mona Lisa\", \"Teszt Elek\"]\n",
        "  return operators\n",
        "\n",
        "def get_products():\n",
        "  #itt kérdezem le, hogy mely termékeket kell gyártani\n",
        "  #ha egy termék több operátoros az többször kerül be a listába\n",
        "  products = [\"A\", \"B\", \"C\"]\n",
        "  return products\n",
        "\n",
        "def get_efficiency_matrix(operators, products):\n",
        "  #itt kell lekérdezni az operátorok hatékonyságát az adott termékre\n",
        "  EFFICIENCY = np.array([\n",
        "    [200, 100, 100],\n",
        "    [100, 100, 100],\n",
        "    [200, 100, 100],\n",
        "  ])\n",
        "\n",
        "  EFFICIENCY = EFFICIENCY.astype(float)\n",
        "\n",
        "  EFFICIENCY = to_square_matrix(EFFICIENCY)\n",
        "\n",
        "  return EFFICIENCY\n",
        "\n",
        "def to_square_matrix(matrix):\n",
        "    rows, cols = matrix.shape\n",
        "    if rows == cols:\n",
        "        return matrix\n",
        "\n",
        "    # Ha nem négyzetes, átalakítjuk\n",
        "    n = max(rows, cols)\n",
        "    square_matrix = np.zeros((n, n), dtype=matrix.dtype)\n",
        "    square_matrix[:rows, :cols] = matrix\n",
        "    return square_matrix\n",
        "\n",
        "def get_monotony_matrix(operators, products):\n",
        "  #ide jön a monotonítás lekérdezése\n",
        "\n",
        "  monotony = np.array([\n",
        "    [1, 1, 1],\n",
        "    [1, 1, 1],\n",
        "    [1, 1, 1],\n",
        "  ])\n",
        "\n",
        "  monotony = monotony.astype(float)\n",
        "\n",
        "  return to_square_matrix(monotony)\n",
        "\n",
        "def pertubation(matrix):\n",
        "    rows, cols = matrix.shape\n",
        "    for col in range(cols):\n",
        "        for row in range(rows):\n",
        "            # Alapérték átalakítás és kis véletlenszerű eltérés hozzáadása, egy megadott tartományban generál kis véletlen eltéréseket\n",
        "            matrix[row, col] = ((matrix[row, col] // 3) * 3) + np.random.uniform(-0.5, 0.5)\n",
        "    return matrix\n",
        "\n",
        "def to_constraints_matrix(operators, products, EFFICIENCY):\n",
        "  #adatbázisból kérdezzül le\n",
        "  constraints_matrix = np.array([\n",
        "    [1, 1, 1],\n",
        "    [1, 1, 1],\n",
        "    [1, 1, 1],\n",
        "  ])\n",
        "\n",
        "  constraints_matrix = constraints_matrix.astype(float)\n",
        "\n",
        "  constraints_matrix = to_square_matrix(constraints_matrix)\n",
        "\n",
        "    # Megkeressük az összes 0 értéket a constraints_matrix-ban\n",
        "  zero_indices = np.where(constraints_matrix == 0)\n",
        "\n",
        "  # Az azonos indexű elemeket a H mátrixban inf-re állítjuk\n",
        "  EFFICIENCY[zero_indices] = np.inf\n",
        "\n",
        "  return EFFICIENCY\n",
        "\n",
        "def cost_matrix(EFFICIENCY):\n",
        "  max_value = np.max(EFFICIENCY)\n",
        "  EFFICIENCY = max_value - EFFICIENCY\n",
        "\n",
        "  return EFFICIENCY\n",
        "\n",
        "def run_hungarian_algorithm(matrix):\n",
        "  row_ind, col_ind = linear_sum_assignment(EFFICIENCY)\n",
        "  assignments = [(operators[i], products[j]) for i, j in zip(row_ind, col_ind)]\n",
        "\n",
        "  return assignments\n",
        "\n",
        "\n",
        "############### RUN PROCESS ###############\n",
        "\n",
        "operators = get_operators()\n",
        "\n",
        "products = get_products()\n",
        "\n",
        "EFFICIENCY = get_efficiency_matrix(operators, products)\n",
        "\n",
        "MONOTONY = get_monotony_matrix(operators, products)\n",
        "\n",
        "EFFICIENCY = EFFICIENCY * MONOTONY\n",
        "\n",
        "EFFICIENCY = pertubation(EFFICIENCY)\n",
        "\n",
        "EFFICIENCY = cost_matrix(EFFICIENCY)\n",
        "\n",
        "EFFICIENCY = to_constraints_matrix(operators, products, EFFICIENCY)\n",
        "\n",
        "assignments = run_hungarian_algorithm(EFFICIENCY)\n",
        "assignments"
      ],
      "metadata": {
        "colab": {
          "base_uri": "https://localhost:8080/"
        },
        "id": "h6kIgydgVTfK",
        "outputId": "12240f96-bd77-4f28-98d5-8964c164a700"
      },
      "execution_count": 81,
      "outputs": [
        {
          "output_type": "execute_result",
          "data": {
            "text/plain": [
              "[('Gipsz Jakab', 'C'), ('Mona Lisa', 'B'), ('Teszt Elek', 'A')]"
            ]
          },
          "metadata": {},
          "execution_count": 81
        }
      ]
    }
  ]
}