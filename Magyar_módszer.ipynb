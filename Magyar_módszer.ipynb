{
  "nbformat": 4,
  "nbformat_minor": 0,
  "metadata": {
    "colab": {
      "provenance": [],
      "authorship_tag": "ABX9TyPERyabApzZ/Zyr1Q6pRCNP",
      "include_colab_link": true
    },
    "kernelspec": {
      "name": "python3",
      "display_name": "Python 3"
    },
    "language_info": {
      "name": "python"
    }
  },
  "cells": [
    {
      "cell_type": "markdown",
      "metadata": {
        "id": "view-in-github",
        "colab_type": "text"
      },
      "source": [
        "<a href=\"https://colab.research.google.com/github/lakatosgabor/magyar_modszer/blob/main/Magyar_m%C3%B3dszer.ipynb\" target=\"_parent\"><img src=\"https://colab.research.google.com/assets/colab-badge.svg\" alt=\"Open In Colab\"/></a>"
      ]
    },
    {
      "cell_type": "code",
      "source": [
        "import numpy as np\n",
        "from scipy.optimize import linear_sum_assignment\n",
        "\n",
        "# Operátorok és termékek\n",
        "operators = [\"Gipsz Jakab\", \"Lakatos Gábor\", \"Teszt Elek\"]\n",
        "products = [\"A\", \"B\", \"C\"]\n",
        "\n",
        "# Hatékonysági mátrix\n",
        "efficiency_matrix = np.array([\n",
        "    [70, 40, 70],  # Gipsz Jakab\n",
        "    [70, 90, 20],   # Lakatos Gábor, C-t nem gyárthatja\n",
        "    [43, 20, 80],   # Teszt Elek, B-t nem gyárthatja\n",
        "])\n",
        "\n",
        "# Az érvénytelen hozzárendeléseket kizárjuk úgy, hogy a hatékonyságot 0-ra állítjuk\n",
        "mask_matrix = np.array([\n",
        "    [1, 1, 1],  # Gipsz Jakab gyárthat mindent\n",
        "    [1, 1, 0],  # Lakatos Gábor nem gyárthat C-t\n",
        "    [1, 0, 1],  # Teszt Elek nem gyárthat B-t\n",
        "])\n",
        "\n",
        "# A 0 hatékonyságú értékeket a kizárási mátrix alapján beállítjuk\n",
        "efficiency_matrix = efficiency_matrix * mask_matrix\n",
        "\n",
        "# Hungarian algorithm alkalmazása (negatív hatékonysággal, mivel a Hungarian algorithm minimális költséget keres)\n",
        "row_ind, col_ind = linear_sum_assignment(-efficiency_matrix)\n",
        "\n",
        "# Az eredmény kiírása\n",
        "assignments = [(operators[i], products[j]) for i, j in zip(row_ind, col_ind)]\n",
        "total_efficiency = efficiency_matrix[row_ind, col_ind].sum()\n",
        "\n",
        "print(\"Optimális hozzárendelés:\")\n",
        "for operator, product in assignments:\n",
        "    print(f\"{operator} gyártsa a(z) {product} terméket.\")\n",
        "print(f\"Összhatékonyság: {total_efficiency}\")\n"
      ],
      "metadata": {
        "colab": {
          "base_uri": "https://localhost:8080/"
        },
        "id": "EGQzJBW0rwRF",
        "outputId": "b300ab86-eb41-49b9-c57c-84dfed8e6a65"
      },
      "execution_count": null,
      "outputs": [
        {
          "output_type": "stream",
          "name": "stdout",
          "text": [
            "Optimális hozzárendelés:\n",
            "Gipsz Jakab gyártsa a(z) A terméket.\n",
            "Lakatos Gábor gyártsa a(z) B terméket.\n",
            "Teszt Elek gyártsa a(z) C terméket.\n",
            "Összhatékonyság: 240\n"
          ]
        }
      ]
    }
  ]
}